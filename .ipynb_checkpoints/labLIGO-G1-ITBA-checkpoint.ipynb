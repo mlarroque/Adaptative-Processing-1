{
 "cells": [
  {
   "cell_type": "markdown",
   "metadata": {},
   "source": [
    "## Detecting Gravitational Waves - Group 1 ITBA\n",
    "\n",
    "##### Nicolás De León\n",
    "##### Matías Larroque\n"
   ]
  },
  {
   "cell_type": "markdown",
   "metadata": {},
   "source": [
    "#### First step: Colecting dataset and inspection\n",
    "\n",
    "There are two datasets that correspond to signals received by Hanford's and Livingston's interferometer.\n",
    "\n",
    "Each dataset consists in an array of samples, with Fsample and duration asociated."
   ]
  },
  {
   "cell_type": "code",
   "execution_count": 3,
   "metadata": {},
   "outputs": [
    {
     "name": "stdout",
     "output_type": "stream",
     "text": [
      "h1 dict/ keys:['meta', 'quality', 'strain']\n",
      "l1 dict/ keys:['meta', 'quality', 'strain']\n"
     ]
    }
   ],
   "source": [
    "#Colecting Hanford's dataset:\n",
    "import h5py\n",
    "h1_dataset_h5dict = h5py.File('H-H1_4KHz32seg.hdf5', 'r')\n",
    "\n",
    "#Colecting Livingston's dataset:\n",
    "l1_dataset_h5dict = h5py.File('L-L1_4KHz32seg.hdf5', 'r')\n",
    "\n",
    "#Inspection:\n",
    "print(f'h1 dict/ keys:{list(h1_dataset_h5dict.keys())}')\n",
    "print(f'l1 dict/ keys:{list(l1_dataset_h5dict.keys())}')"
   ]
  },
  {
   "cell_type": "code",
   "execution_count": 6,
   "metadata": {},
   "outputs": [
    {
     "ename": "AttributeError",
     "evalue": "'Group' object has no attribute 'shape'",
     "output_type": "error",
     "traceback": [
      "\u001b[1;31m---------------------------------------------------------------------------\u001b[0m",
      "\u001b[1;31mAttributeError\u001b[0m                            Traceback (most recent call last)",
      "\u001b[1;32m<ipython-input-6-6cd1d0ca7619>\u001b[0m in \u001b[0;36m<module>\u001b[1;34m\u001b[0m\n\u001b[0;32m      4\u001b[0m \u001b[1;33m\u001b[0m\u001b[0m\n\u001b[0;32m      5\u001b[0m \u001b[1;31m#More inspection:\u001b[0m\u001b[1;33m\u001b[0m\u001b[1;33m\u001b[0m\u001b[1;33m\u001b[0m\u001b[0m\n\u001b[1;32m----> 6\u001b[1;33m \u001b[0mprint\u001b[0m\u001b[1;33m(\u001b[0m\u001b[1;34mf'h1/ shape:{h1_dataset.shape()} - type {h1_dataset.dtype}'\u001b[0m\u001b[1;33m)\u001b[0m\u001b[1;33m\u001b[0m\u001b[1;33m\u001b[0m\u001b[0m\n\u001b[0m\u001b[0;32m      7\u001b[0m \u001b[0mprint\u001b[0m\u001b[1;33m(\u001b[0m\u001b[1;34mf'l1/ shape:{l1_dataset.shape()} - type {l1_dataset.dtype}'\u001b[0m\u001b[1;33m)\u001b[0m\u001b[1;33m\u001b[0m\u001b[1;33m\u001b[0m\u001b[0m\n",
      "\u001b[1;31mAttributeError\u001b[0m: 'Group' object has no attribute 'shape'"
     ]
    }
   ],
   "source": [
    "h1_dataset = h1_dataset_h5dict['strain']\n",
    "\n",
    "l1_dataset = l1_dataset_h5dict['strain']\n",
    "\n",
    "#More inspection:\n",
    "print(f'h1/ shape:{h1_dataset.shape()} - type {h1_dataset.dtype}')\n",
    "print(f'l1/ shape:{l1_dataset.shape()} - type {l1_dataset.dtype}')"
   ]
  },
  {
   "cell_type": "code",
   "execution_count": null,
   "metadata": {},
   "outputs": [],
   "source": []
  }
 ],
 "metadata": {
  "kernelspec": {
   "display_name": "PASA1",
   "language": "python",
   "name": "pasa1"
  },
  "language_info": {
   "codemirror_mode": {
    "name": "ipython",
    "version": 3
   },
   "file_extension": ".py",
   "mimetype": "text/x-python",
   "name": "python",
   "nbconvert_exporter": "python",
   "pygments_lexer": "ipython3",
   "version": "3.6.10"
  }
 },
 "nbformat": 4,
 "nbformat_minor": 4
}
